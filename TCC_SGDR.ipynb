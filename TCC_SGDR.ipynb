{
 "cells": [
  {
   "cell_type": "code",
   "execution_count": 1,
   "metadata": {},
   "outputs": [],
   "source": [
    "%matplotlib inline\n",
    "import numpy as np\n",
    "import pandas as pd\n",
    "import seaborn as sns\n",
    "import matplotlib.pyplot as plt"
   ]
  },
  {
   "cell_type": "code",
   "execution_count": 2,
   "metadata": {},
   "outputs": [],
   "source": [
    "df_final = pd.read_csv('data\\COVID-19-final.csv', ';')"
   ]
  },
  {
   "cell_type": "code",
   "execution_count": 3,
   "metadata": {},
   "outputs": [
    {
     "data": {
      "image/png": "[encoded data removed]",
      "text/plain": [
       "<Figure size 504x360 with 2 Axes>"
      ]
     },
     "metadata": {},
     "output_type": "display_data"
    }
   ],
   "source": [
    "corr = df_final.corr()\n",
    "mask = np.zeros_like(corr)\n",
    "mask[np.triu_indices_from(mask)] = True\n",
    "with sns.axes_style(\"white\"):\n",
    "    f, ax = plt.subplots(figsize=(7, 5))\n",
    "    ax = sns.heatmap(corr, mask=mask, center=0, cmap='RdBu_r', square=True)"
   ]
  },
  {
   "cell_type": "markdown",
   "metadata": {},
   "source": [
    "# Treinamento"
   ]
  },
  {
   "cell_type": "code",
   "execution_count": 4,
   "metadata": {
    "scrolled": false
   },
   "outputs": [
    {
     "data": {
      "text/html": [
       "<div>\n",
       "<style scoped>\n",
       "    .dataframe tbody tr th:only-of-type {\n",
       "        vertical-align: middle;\n",
       "    }\n",
       "\n",
       "    .dataframe tbody tr th {\n",
       "        vertical-align: top;\n",
       "    }\n",
       "\n",
       "    .dataframe thead th {\n",
       "        text-align: right;\n",
       "    }\n",
       "</style>\n",
       "<table border=\"1\" class=\"dataframe\">\n",
       "  <thead>\n",
       "    <tr style=\"text-align: right;\">\n",
       "      <th></th>\n",
       "      <th>gdp</th>\n",
       "      <th>hdi</th>\n",
       "      <th>uhc</th>\n",
       "      <th>hw</th>\n",
       "      <th>pop_0_14</th>\n",
       "      <th>pop_15_64</th>\n",
       "      <th>pop_65+</th>\n",
       "      <th>week</th>\n",
       "      <th>prev_cases</th>\n",
       "      <th>prev_deaths</th>\n",
       "    </tr>\n",
       "  </thead>\n",
       "  <tbody>\n",
       "    <tr>\n",
       "      <td>0</td>\n",
       "      <td>8.273686e+10</td>\n",
       "      <td>0.496</td>\n",
       "      <td>0.37</td>\n",
       "      <td>0.3775</td>\n",
       "      <td>0.430902</td>\n",
       "      <td>0.543249</td>\n",
       "      <td>0.025849</td>\n",
       "      <td>1</td>\n",
       "      <td>0.000000</td>\n",
       "      <td>0.0</td>\n",
       "    </tr>\n",
       "    <tr>\n",
       "      <td>1</td>\n",
       "      <td>8.273686e+10</td>\n",
       "      <td>0.496</td>\n",
       "      <td>0.37</td>\n",
       "      <td>0.3775</td>\n",
       "      <td>0.430902</td>\n",
       "      <td>0.543249</td>\n",
       "      <td>0.025849</td>\n",
       "      <td>2</td>\n",
       "      <td>0.002629</td>\n",
       "      <td>0.0</td>\n",
       "    </tr>\n",
       "    <tr>\n",
       "      <td>2</td>\n",
       "      <td>8.273686e+10</td>\n",
       "      <td>0.496</td>\n",
       "      <td>0.37</td>\n",
       "      <td>0.3775</td>\n",
       "      <td>0.430902</td>\n",
       "      <td>0.543249</td>\n",
       "      <td>0.025849</td>\n",
       "      <td>3</td>\n",
       "      <td>0.010515</td>\n",
       "      <td>0.0</td>\n",
       "    </tr>\n",
       "    <tr>\n",
       "      <td>3</td>\n",
       "      <td>8.273686e+10</td>\n",
       "      <td>0.496</td>\n",
       "      <td>0.37</td>\n",
       "      <td>0.3775</td>\n",
       "      <td>0.430902</td>\n",
       "      <td>0.543249</td>\n",
       "      <td>0.025849</td>\n",
       "      <td>4</td>\n",
       "      <td>0.042059</td>\n",
       "      <td>0.0</td>\n",
       "    </tr>\n",
       "    <tr>\n",
       "      <td>4</td>\n",
       "      <td>8.273686e+10</td>\n",
       "      <td>0.496</td>\n",
       "      <td>0.37</td>\n",
       "      <td>0.3775</td>\n",
       "      <td>0.430902</td>\n",
       "      <td>0.543249</td>\n",
       "      <td>0.025849</td>\n",
       "      <td>5</td>\n",
       "      <td>0.089375</td>\n",
       "      <td>0.0</td>\n",
       "    </tr>\n",
       "  </tbody>\n",
       "</table>\n",
       "</div>"
      ],
      "text/plain": [
       "            gdp    hdi   uhc      hw  pop_0_14  pop_15_64   pop_65+  week  \\\n",
       "0  8.273686e+10  0.496  0.37  0.3775  0.430902   0.543249  0.025849     1   \n",
       "1  8.273686e+10  0.496  0.37  0.3775  0.430902   0.543249  0.025849     2   \n",
       "2  8.273686e+10  0.496  0.37  0.3775  0.430902   0.543249  0.025849     3   \n",
       "3  8.273686e+10  0.496  0.37  0.3775  0.430902   0.543249  0.025849     4   \n",
       "4  8.273686e+10  0.496  0.37  0.3775  0.430902   0.543249  0.025849     5   \n",
       "\n",
       "   prev_cases  prev_deaths  \n",
       "0    0.000000          0.0  \n",
       "1    0.002629          0.0  \n",
       "2    0.010515          0.0  \n",
       "3    0.042059          0.0  \n",
       "4    0.089375          0.0  "
      ]
     },
     "execution_count": 4,
     "metadata": {},
     "output_type": "execute_result"
    }
   ],
   "source": [
    "X = df_final[['gdp','hdi','uhc','hw','pop_0_14','pop_15_64','pop_65+','week','prev_cases','prev_deaths']]\n",
    "X.head()"
   ]
  },
  {
   "cell_type": "code",
   "execution_count": 5,
   "metadata": {
    "scrolled": true
   },
   "outputs": [
    {
     "data": {
      "text/html": [
       "<div>\n",
       "<style scoped>\n",
       "    .dataframe tbody tr th:only-of-type {\n",
       "        vertical-align: middle;\n",
       "    }\n",
       "\n",
       "    .dataframe tbody tr th {\n",
       "        vertical-align: top;\n",
       "    }\n",
       "\n",
       "    .dataframe thead th {\n",
       "        text-align: right;\n",
       "    }\n",
       "</style>\n",
       "<table border=\"1\" class=\"dataframe\">\n",
       "  <thead>\n",
       "    <tr style=\"text-align: right;\">\n",
       "      <th></th>\n",
       "      <th>cases</th>\n",
       "      <th>deaths</th>\n",
       "    </tr>\n",
       "  </thead>\n",
       "  <tbody>\n",
       "    <tr>\n",
       "      <td>0</td>\n",
       "      <td>0.002629</td>\n",
       "      <td>0.000000</td>\n",
       "    </tr>\n",
       "    <tr>\n",
       "      <td>1</td>\n",
       "      <td>0.010515</td>\n",
       "      <td>0.000000</td>\n",
       "    </tr>\n",
       "    <tr>\n",
       "      <td>2</td>\n",
       "      <td>0.042059</td>\n",
       "      <td>0.000000</td>\n",
       "    </tr>\n",
       "    <tr>\n",
       "      <td>3</td>\n",
       "      <td>0.089375</td>\n",
       "      <td>0.000000</td>\n",
       "    </tr>\n",
       "    <tr>\n",
       "      <td>4</td>\n",
       "      <td>0.299671</td>\n",
       "      <td>0.010515</td>\n",
       "    </tr>\n",
       "  </tbody>\n",
       "</table>\n",
       "</div>"
      ],
      "text/plain": [
       "      cases    deaths\n",
       "0  0.002629  0.000000\n",
       "1  0.010515  0.000000\n",
       "2  0.042059  0.000000\n",
       "3  0.089375  0.000000\n",
       "4  0.299671  0.010515"
      ]
     },
     "execution_count": 5,
     "metadata": {},
     "output_type": "execute_result"
    }
   ],
   "source": [
    "y = df_final[['cases','deaths']]\n",
    "y.head()"
   ]
  },
  {
   "cell_type": "code",
   "execution_count": 7,
   "metadata": {},
   "outputs": [],
   "source": [
    "from sklearn.linear_model import SGDRegressor\n",
    "from sklearn.model_selection import train_test_split\n",
    "from sklearn.model_selection import KFold"
   ]
  },
  {
   "cell_type": "code",
   "execution_count": 8,
   "metadata": {},
   "outputs": [
    {
     "name": "stdout",
     "output_type": "stream",
     "text": [
      "train: X (740, 10) - y (740, 2) - KFold splits 10\n",
      " test: X (186, 10) - y (186, 2)\n"
     ]
    }
   ],
   "source": [
    "random_state = 40\n",
    "n_splits = 10\n",
    "\n",
    "X_train, X_test, y_train, y_test = train_test_split(X, y, test_size=0.2, random_state=random_state)\n",
    "kf = KFold(n_splits)\n",
    "\n",
    "print('train: X', X_train.shape, '- y', y_train.shape, '- KFold splits', n_splits)\n",
    "print(' test: X', X_test.shape, '- y', y_test.shape)"
   ]
  },
  {
   "cell_type": "code",
   "execution_count": 9,
   "metadata": {},
   "outputs": [],
   "source": [
    "def kfold_train_validate(algoritmo, kf, X, y):\n",
    "    historico = []\n",
    "    \n",
    "    for k, (train_idx, val_idx) in enumerate(kf.split(X, y)):\n",
    "        algoritmo.fit(X.iloc[train_idx], y.iloc[train_idx])\n",
    "        r2s = algoritmo.score(X.iloc[val_idx], y.iloc[val_idx])\n",
    "        historico.append([k, r2s])\n",
    "    \n",
    "    historico = pd.DataFrame(data=historico, columns=['k','r2 score'])\n",
    "    return historico\n",
    "\n",
    "def describe(historico):\n",
    "    return pd.DataFrame(historico['r2 score']).describe().transpose()\n",
    "\n",
    "def plot(historico):\n",
    "    sns.lineplot(x='k', y='r2 score', data=historico)\n",
    "    plt.show()"
   ]
  },
  {
   "cell_type": "code",
   "execution_count": 10,
   "metadata": {},
   "outputs": [],
   "source": [
    "y_var = 'cases'\n",
    "y_train = y_train[y_var]"
   ]
  },
  {
   "cell_type": "code",
   "execution_count": 12,
   "metadata": {},
   "outputs": [],
   "source": [
    "loss='squared_loss' # 'squared_loss', 'huber', 'epsilon_insensitive', or 'squared_epsilon_insensitive'\n",
    "penalty='l2' # 'l2', 'l1', 'elasticnet'\n",
    "alpha=0.0001\n",
    "max_iter=1000\n",
    "tol=1e-3\n",
    "\n",
    "algoritmo = SGDRegressor(loss=loss, penalty=penalty, alpha=alpha, max_iter=max_iter, tol=tol)"
   ]
  },
  {
   "cell_type": "code",
   "execution_count": 13,
   "metadata": {
    "scrolled": true
   },
   "outputs": [
    {
     "data": {
      "text/html": [
       "<div>\n",
       "<style scoped>\n",
       "    .dataframe tbody tr th:only-of-type {\n",
       "        vertical-align: middle;\n",
       "    }\n",
       "\n",
       "    .dataframe tbody tr th {\n",
       "        vertical-align: top;\n",
       "    }\n",
       "\n",
       "    .dataframe thead th {\n",
       "        text-align: right;\n",
       "    }\n",
       "</style>\n",
       "<table border=\"1\" class=\"dataframe\">\n",
       "  <thead>\n",
       "    <tr style=\"text-align: right;\">\n",
       "      <th></th>\n",
       "      <th>count</th>\n",
       "      <th>mean</th>\n",
       "      <th>std</th>\n",
       "      <th>min</th>\n",
       "      <th>25%</th>\n",
       "      <th>50%</th>\n",
       "      <th>75%</th>\n",
       "      <th>max</th>\n",
       "    </tr>\n",
       "  </thead>\n",
       "  <tbody>\n",
       "    <tr>\n",
       "      <td>r2 score</td>\n",
       "      <td>10.0</td>\n",
       "      <td>-3.172478e+63</td>\n",
       "      <td>8.461647e+63</td>\n",
       "      <td>-2.718002e+64</td>\n",
       "      <td>-1.262196e+63</td>\n",
       "      <td>-2.632000e+62</td>\n",
       "      <td>-5.080347e+60</td>\n",
       "      <td>-3.341153e+57</td>\n",
       "    </tr>\n",
       "  </tbody>\n",
       "</table>\n",
       "</div>"
      ],
      "text/plain": [
       "          count          mean           std           min           25%  \\\n",
       "r2 score   10.0 -3.172478e+63  8.461647e+63 -2.718002e+64 -1.262196e+63   \n",
       "\n",
       "                   50%           75%           max  \n",
       "r2 score -2.632000e+62 -5.080347e+60 -3.341153e+57  "
      ]
     },
     "execution_count": 13,
     "metadata": {},
     "output_type": "execute_result"
    }
   ],
   "source": [
    "historico = kfold_train_validate(algoritmo, kf, X_train, y_train)\n",
    "describe(historico)"
   ]
  },
  {
   "cell_type": "code",
   "execution_count": 14,
   "metadata": {
    "scrolled": true
   },
   "outputs": [
    {
     "data": {
      "image/png": "[encoded data removed]",
      "text/plain": [
       "<Figure size 432x288 with 1 Axes>"
      ]
     },
     "metadata": {
      "needs_background": "light"
     },
     "output_type": "display_data"
    }
   ],
   "source": [
    "plot(historico)"
   ]
  },
  {
   "cell_type": "code",
   "execution_count": 15,
   "metadata": {},
   "outputs": [],
   "source": [
    "from sklearn.pipeline import make_pipeline\n",
    "from sklearn.preprocessing import StandardScaler"
   ]
  },
  {
   "cell_type": "code",
   "execution_count": 16,
   "metadata": {},
   "outputs": [],
   "source": [
    "algoritmo = make_pipeline(StandardScaler(), \\\n",
    "                          SGDRegressor(loss=loss, penalty=penalty, alpha=alpha, max_iter=max_iter, tol=tol))"
   ]
  },
  {
   "cell_type": "code",
   "execution_count": 17,
   "metadata": {
    "scrolled": false
   },
   "outputs": [
    {
     "data": {
      "text/html": [
       "<div>\n",
       "<style scoped>\n",
       "    .dataframe tbody tr th:only-of-type {\n",
       "        vertical-align: middle;\n",
       "    }\n",
       "\n",
       "    .dataframe tbody tr th {\n",
       "        vertical-align: top;\n",
       "    }\n",
       "\n",
       "    .dataframe thead th {\n",
       "        text-align: right;\n",
       "    }\n",
       "</style>\n",
       "<table border=\"1\" class=\"dataframe\">\n",
       "  <thead>\n",
       "    <tr style=\"text-align: right;\">\n",
       "      <th></th>\n",
       "      <th>count</th>\n",
       "      <th>mean</th>\n",
       "      <th>std</th>\n",
       "      <th>min</th>\n",
       "      <th>25%</th>\n",
       "      <th>50%</th>\n",
       "      <th>75%</th>\n",
       "      <th>max</th>\n",
       "    </tr>\n",
       "  </thead>\n",
       "  <tbody>\n",
       "    <tr>\n",
       "      <td>r2 score</td>\n",
       "      <td>10.0</td>\n",
       "      <td>0.988819</td>\n",
       "      <td>0.00484</td>\n",
       "      <td>0.980759</td>\n",
       "      <td>0.986276</td>\n",
       "      <td>0.989709</td>\n",
       "      <td>0.991264</td>\n",
       "      <td>0.996395</td>\n",
       "    </tr>\n",
       "  </tbody>\n",
       "</table>\n",
       "</div>"
      ],
      "text/plain": [
       "          count      mean      std       min       25%       50%       75%  \\\n",
       "r2 score   10.0  0.988819  0.00484  0.980759  0.986276  0.989709  0.991264   \n",
       "\n",
       "               max  \n",
       "r2 score  0.996395  "
      ]
     },
     "execution_count": 17,
     "metadata": {},
     "output_type": "execute_result"
    }
   ],
   "source": [
    "historico = kfold_train_validate(algoritmo, kf, X_train, y_train)\n",
    "describe(historico)"
   ]
  },
  {
   "cell_type": "code",
   "execution_count": 18,
   "metadata": {},
   "outputs": [
    {
     "data": {
      "image/png": "[encoded data removed]",
      "text/plain": [
       "<Figure size 432x288 with 1 Axes>"
      ]
     },
     "metadata": {
      "needs_background": "light"
     },
     "output_type": "display_data"
    }
   ],
   "source": [
    "plot(historico)"
   ]
  },
  {
   "cell_type": "code",
   "execution_count": 43,
   "metadata": {},
   "outputs": [],
   "source": [
    "loss='squared_loss' # 'squared_loss', 'huber', 'epsilon_insensitive', or 'squared_epsilon_insensitive'\n",
    "penalty='l2' # 'l2', 'l1', 'elasticnet'\n",
    "alpha=1e-5\n",
    "max_iter=100000\n",
    "tol=1e-5\n",
    "\n",
    "algoritmo = make_pipeline(StandardScaler(), \\\n",
    "                          SGDRegressor(loss=loss, penalty=penalty, alpha=alpha, max_iter=max_iter, tol=tol))"
   ]
  },
  {
   "cell_type": "code",
   "execution_count": 44,
   "metadata": {},
   "outputs": [
    {
     "data": {
      "text/html": [
       "<div>\n",
       "<style scoped>\n",
       "    .dataframe tbody tr th:only-of-type {\n",
       "        vertical-align: middle;\n",
       "    }\n",
       "\n",
       "    .dataframe tbody tr th {\n",
       "        vertical-align: top;\n",
       "    }\n",
       "\n",
       "    .dataframe thead th {\n",
       "        text-align: right;\n",
       "    }\n",
       "</style>\n",
       "<table border=\"1\" class=\"dataframe\">\n",
       "  <thead>\n",
       "    <tr style=\"text-align: right;\">\n",
       "      <th></th>\n",
       "      <th>count</th>\n",
       "      <th>mean</th>\n",
       "      <th>std</th>\n",
       "      <th>min</th>\n",
       "      <th>25%</th>\n",
       "      <th>50%</th>\n",
       "      <th>75%</th>\n",
       "      <th>max</th>\n",
       "    </tr>\n",
       "  </thead>\n",
       "  <tbody>\n",
       "    <tr>\n",
       "      <td>r2 score</td>\n",
       "      <td>10.0</td>\n",
       "      <td>0.988945</td>\n",
       "      <td>0.004896</td>\n",
       "      <td>0.980344</td>\n",
       "      <td>0.987151</td>\n",
       "      <td>0.989833</td>\n",
       "      <td>0.991581</td>\n",
       "      <td>0.996447</td>\n",
       "    </tr>\n",
       "  </tbody>\n",
       "</table>\n",
       "</div>"
      ],
      "text/plain": [
       "          count      mean       std       min       25%       50%       75%  \\\n",
       "r2 score   10.0  0.988945  0.004896  0.980344  0.987151  0.989833  0.991581   \n",
       "\n",
       "               max  \n",
       "r2 score  0.996447  "
      ]
     },
     "execution_count": 44,
     "metadata": {},
     "output_type": "execute_result"
    }
   ],
   "source": [
    "historico = kfold_train_validate(algoritmo, kf, X_train, y_train)\n",
    "describe(historico)"
   ]
  },
  {
   "cell_type": "code",
   "execution_count": 45,
   "metadata": {},
   "outputs": [
    {
     "data": {
      "image/png": "[encoded data removed]",
      "text/plain": [
       "<Figure size 432x288 with 1 Axes>"
      ]
     },
     "metadata": {
      "needs_background": "light"
     },
     "output_type": "display_data"
    }
   ],
   "source": [
    "plot(historico)"
   ]
  },
  {
   "cell_type": "markdown",
   "metadata": {},
   "source": [
    "# Teste"
   ]
  },
  {
   "cell_type": "code",
   "execution_count": null,
   "metadata": {},
   "outputs": [],
   "source": [
    "r2s_test = algoritmo.score(X_test, y_test['cases'])\n",
    "print(\"Test R2 score: {:3.6f}\".format(r2s_test))"
   ]
  },
  {
   "cell_type": "code",
   "execution_count": null,
   "metadata": {},
   "outputs": [],
   "source": []
  }
 ],
 "metadata": {
  "kernelspec": {
   "display_name": "Python 3",
   "language": "python",
   "name": "python3"
  },
  "language_info": {
   "codemirror_mode": {
    "name": "ipython",
    "version": 3
   },
   "file_extension": ".py",
   "mimetype": "text/x-python",
   "name": "python",
   "nbconvert_exporter": "python",
   "pygments_lexer": "ipython3",
   "version": "3.7.4"
  }
 },
 "nbformat": 4,
 "nbformat_minor": 2
}
