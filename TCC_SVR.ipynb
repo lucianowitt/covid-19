{
 "cells": [
  {
   "cell_type": "code",
   "execution_count": 1,
   "metadata": {},
   "outputs": [],
   "source": [
    "%matplotlib inline\n",
    "import numpy as np\n",
    "import pandas as pd\n",
    "import seaborn as sns\n",
    "import matplotlib.pyplot as plt"
   ]
  },
  {
   "cell_type": "code",
   "execution_count": 2,
   "metadata": {},
   "outputs": [],
   "source": [
    "df_final = pd.read_csv('data\\COVID-19-final.csv', ';')"
   ]
  },
  {
   "cell_type": "code",
   "execution_count": 3,
   "metadata": {},
   "outputs": [
    {
     "data": {
      "image/png": "[encoded data removed]",
      "text/plain": [
       "<Figure size 504x360 with 2 Axes>"
      ]
     },
     "metadata": {},
     "output_type": "display_data"
    }
   ],
   "source": [
    "corr = df_final.corr()\n",
    "mask = np.zeros_like(corr)\n",
    "mask[np.triu_indices_from(mask)] = True\n",
    "with sns.axes_style(\"white\"):\n",
    "    f, ax = plt.subplots(figsize=(7, 5))\n",
    "    ax = sns.heatmap(corr, mask=mask, center=0, cmap='RdBu_r', square=True)"
   ]
  },
  {
   "cell_type": "markdown",
   "metadata": {},
   "source": [
    "# Treinamento"
   ]
  },
  {
   "cell_type": "code",
   "execution_count": 4,
   "metadata": {
    "scrolled": false
   },
   "outputs": [
    {
     "data": {
      "text/html": [
       "<div>\n",
       "<style scoped>\n",
       "    .dataframe tbody tr th:only-of-type {\n",
       "        vertical-align: middle;\n",
       "    }\n",
       "\n",
       "    .dataframe tbody tr th {\n",
       "        vertical-align: top;\n",
       "    }\n",
       "\n",
       "    .dataframe thead th {\n",
       "        text-align: right;\n",
       "    }\n",
       "</style>\n",
       "<table border=\"1\" class=\"dataframe\">\n",
       "  <thead>\n",
       "    <tr style=\"text-align: right;\">\n",
       "      <th></th>\n",
       "      <th>gdp</th>\n",
       "      <th>hdi</th>\n",
       "      <th>uhc</th>\n",
       "      <th>hw</th>\n",
       "      <th>pop_0_14</th>\n",
       "      <th>pop_15_64</th>\n",
       "      <th>pop_65+</th>\n",
       "      <th>week</th>\n",
       "      <th>prev_cases</th>\n",
       "      <th>prev_deaths</th>\n",
       "    </tr>\n",
       "  </thead>\n",
       "  <tbody>\n",
       "    <tr>\n",
       "      <td>0</td>\n",
       "      <td>8.273686e+10</td>\n",
       "      <td>0.496</td>\n",
       "      <td>0.37</td>\n",
       "      <td>0.3775</td>\n",
       "      <td>0.430902</td>\n",
       "      <td>0.543249</td>\n",
       "      <td>0.025849</td>\n",
       "      <td>1</td>\n",
       "      <td>0.000000</td>\n",
       "      <td>0.0</td>\n",
       "    </tr>\n",
       "    <tr>\n",
       "      <td>1</td>\n",
       "      <td>8.273686e+10</td>\n",
       "      <td>0.496</td>\n",
       "      <td>0.37</td>\n",
       "      <td>0.3775</td>\n",
       "      <td>0.430902</td>\n",
       "      <td>0.543249</td>\n",
       "      <td>0.025849</td>\n",
       "      <td>2</td>\n",
       "      <td>0.002629</td>\n",
       "      <td>0.0</td>\n",
       "    </tr>\n",
       "    <tr>\n",
       "      <td>2</td>\n",
       "      <td>8.273686e+10</td>\n",
       "      <td>0.496</td>\n",
       "      <td>0.37</td>\n",
       "      <td>0.3775</td>\n",
       "      <td>0.430902</td>\n",
       "      <td>0.543249</td>\n",
       "      <td>0.025849</td>\n",
       "      <td>3</td>\n",
       "      <td>0.010515</td>\n",
       "      <td>0.0</td>\n",
       "    </tr>\n",
       "    <tr>\n",
       "      <td>3</td>\n",
       "      <td>8.273686e+10</td>\n",
       "      <td>0.496</td>\n",
       "      <td>0.37</td>\n",
       "      <td>0.3775</td>\n",
       "      <td>0.430902</td>\n",
       "      <td>0.543249</td>\n",
       "      <td>0.025849</td>\n",
       "      <td>4</td>\n",
       "      <td>0.042059</td>\n",
       "      <td>0.0</td>\n",
       "    </tr>\n",
       "    <tr>\n",
       "      <td>4</td>\n",
       "      <td>8.273686e+10</td>\n",
       "      <td>0.496</td>\n",
       "      <td>0.37</td>\n",
       "      <td>0.3775</td>\n",
       "      <td>0.430902</td>\n",
       "      <td>0.543249</td>\n",
       "      <td>0.025849</td>\n",
       "      <td>5</td>\n",
       "      <td>0.089375</td>\n",
       "      <td>0.0</td>\n",
       "    </tr>\n",
       "  </tbody>\n",
       "</table>\n",
       "</div>"
      ],
      "text/plain": [
       "            gdp    hdi   uhc      hw  pop_0_14  pop_15_64   pop_65+  week  \\\n",
       "0  8.273686e+10  0.496  0.37  0.3775  0.430902   0.543249  0.025849     1   \n",
       "1  8.273686e+10  0.496  0.37  0.3775  0.430902   0.543249  0.025849     2   \n",
       "2  8.273686e+10  0.496  0.37  0.3775  0.430902   0.543249  0.025849     3   \n",
       "3  8.273686e+10  0.496  0.37  0.3775  0.430902   0.543249  0.025849     4   \n",
       "4  8.273686e+10  0.496  0.37  0.3775  0.430902   0.543249  0.025849     5   \n",
       "\n",
       "   prev_cases  prev_deaths  \n",
       "0    0.000000          0.0  \n",
       "1    0.002629          0.0  \n",
       "2    0.010515          0.0  \n",
       "3    0.042059          0.0  \n",
       "4    0.089375          0.0  "
      ]
     },
     "execution_count": 4,
     "metadata": {},
     "output_type": "execute_result"
    }
   ],
   "source": [
    "X = df_final[['gdp','hdi','uhc','hw','pop_0_14','pop_15_64','pop_65+','week','prev_cases','prev_deaths']]\n",
    "X.head()"
   ]
  },
  {
   "cell_type": "code",
   "execution_count": 5,
   "metadata": {
    "scrolled": true
   },
   "outputs": [
    {
     "data": {
      "text/html": [
       "<div>\n",
       "<style scoped>\n",
       "    .dataframe tbody tr th:only-of-type {\n",
       "        vertical-align: middle;\n",
       "    }\n",
       "\n",
       "    .dataframe tbody tr th {\n",
       "        vertical-align: top;\n",
       "    }\n",
       "\n",
       "    .dataframe thead th {\n",
       "        text-align: right;\n",
       "    }\n",
       "</style>\n",
       "<table border=\"1\" class=\"dataframe\">\n",
       "  <thead>\n",
       "    <tr style=\"text-align: right;\">\n",
       "      <th></th>\n",
       "      <th>cases</th>\n",
       "      <th>deaths</th>\n",
       "    </tr>\n",
       "  </thead>\n",
       "  <tbody>\n",
       "    <tr>\n",
       "      <td>0</td>\n",
       "      <td>0.002629</td>\n",
       "      <td>0.000000</td>\n",
       "    </tr>\n",
       "    <tr>\n",
       "      <td>1</td>\n",
       "      <td>0.010515</td>\n",
       "      <td>0.000000</td>\n",
       "    </tr>\n",
       "    <tr>\n",
       "      <td>2</td>\n",
       "      <td>0.042059</td>\n",
       "      <td>0.000000</td>\n",
       "    </tr>\n",
       "    <tr>\n",
       "      <td>3</td>\n",
       "      <td>0.089375</td>\n",
       "      <td>0.000000</td>\n",
       "    </tr>\n",
       "    <tr>\n",
       "      <td>4</td>\n",
       "      <td>0.299671</td>\n",
       "      <td>0.010515</td>\n",
       "    </tr>\n",
       "  </tbody>\n",
       "</table>\n",
       "</div>"
      ],
      "text/plain": [
       "      cases    deaths\n",
       "0  0.002629  0.000000\n",
       "1  0.010515  0.000000\n",
       "2  0.042059  0.000000\n",
       "3  0.089375  0.000000\n",
       "4  0.299671  0.010515"
      ]
     },
     "execution_count": 5,
     "metadata": {},
     "output_type": "execute_result"
    }
   ],
   "source": [
    "y = df_final[['cases','deaths']]\n",
    "y.head()"
   ]
  },
  {
   "cell_type": "code",
   "execution_count": 6,
   "metadata": {},
   "outputs": [],
   "source": [
    "from sklearn.svm import SVR\n",
    "from sklearn.model_selection import train_test_split\n",
    "from sklearn.model_selection import KFold"
   ]
  },
  {
   "cell_type": "code",
   "execution_count": 7,
   "metadata": {},
   "outputs": [
    {
     "name": "stdout",
     "output_type": "stream",
     "text": [
      "train: X (740, 10) - y (740, 2) - KFold splits 10\n",
      " test: X (186, 10) - y (186, 2)\n"
     ]
    }
   ],
   "source": [
    "random_state = 40\n",
    "n_splits = 10\n",
    "\n",
    "X_train, X_test, y_train, y_test = train_test_split(X, y, test_size=0.2, random_state=random_state)\n",
    "kf = KFold(n_splits)\n",
    "\n",
    "print('train: X', X_train.shape, '- y', y_train.shape, '- KFold splits', n_splits)\n",
    "print(' test: X', X_test.shape, '- y', y_test.shape)"
   ]
  },
  {
   "cell_type": "code",
   "execution_count": 8,
   "metadata": {},
   "outputs": [],
   "source": [
    "def kfold_train_validate(algoritmo, kf, X, y):\n",
    "    historico = []\n",
    "    \n",
    "    for k, (train_idx, val_idx) in enumerate(kf.split(X, y)):\n",
    "        algoritmo.fit(X.iloc[train_idx], y.iloc[train_idx])\n",
    "        r2s = algoritmo.score(X.iloc[val_idx], y.iloc[val_idx])\n",
    "        historico.append([k, r2s])\n",
    "    \n",
    "    historico = pd.DataFrame(data=historico, columns=['k','r2 score'])\n",
    "    return historico\n",
    "\n",
    "def describe(historico):\n",
    "    return pd.DataFrame(historico['r2 score']).describe().transpose()\n",
    "\n",
    "def plot(historico):\n",
    "    sns.lineplot(x='k', y='r2 score', data=historico)\n",
    "    plt.show()"
   ]
  },
  {
   "cell_type": "code",
   "execution_count": 9,
   "metadata": {},
   "outputs": [],
   "source": [
    "y_var = 'cases'\n",
    "y_train = y_train[y_var]"
   ]
  },
  {
   "cell_type": "code",
   "execution_count": 10,
   "metadata": {},
   "outputs": [],
   "source": [
    "kernel='rbf' #linear\n",
    "degree=3\n",
    "gamma='scale' #auto\n",
    "C = 1.0\n",
    "epsilon = 0.1\n",
    "\n",
    "algoritmo = SVR(kernel=kernel, degree=degree,gamma=gamma, C=C, epsilon=epsilon)"
   ]
  },
  {
   "cell_type": "code",
   "execution_count": 11,
   "metadata": {
    "scrolled": true
   },
   "outputs": [
    {
     "data": {
      "text/html": [
       "<div>\n",
       "<style scoped>\n",
       "    .dataframe tbody tr th:only-of-type {\n",
       "        vertical-align: middle;\n",
       "    }\n",
       "\n",
       "    .dataframe tbody tr th {\n",
       "        vertical-align: top;\n",
       "    }\n",
       "\n",
       "    .dataframe thead th {\n",
       "        text-align: right;\n",
       "    }\n",
       "</style>\n",
       "<table border=\"1\" class=\"dataframe\">\n",
       "  <thead>\n",
       "    <tr style=\"text-align: right;\">\n",
       "      <th></th>\n",
       "      <th>count</th>\n",
       "      <th>mean</th>\n",
       "      <th>std</th>\n",
       "      <th>min</th>\n",
       "      <th>25%</th>\n",
       "      <th>50%</th>\n",
       "      <th>75%</th>\n",
       "      <th>max</th>\n",
       "    </tr>\n",
       "  </thead>\n",
       "  <tbody>\n",
       "    <tr>\n",
       "      <td>r2 score</td>\n",
       "      <td>10.0</td>\n",
       "      <td>-0.118167</td>\n",
       "      <td>0.038129</td>\n",
       "      <td>-0.167445</td>\n",
       "      <td>-0.144862</td>\n",
       "      <td>-0.125158</td>\n",
       "      <td>-0.085659</td>\n",
       "      <td>-0.060604</td>\n",
       "    </tr>\n",
       "  </tbody>\n",
       "</table>\n",
       "</div>"
      ],
      "text/plain": [
       "          count      mean       std       min       25%       50%       75%  \\\n",
       "r2 score   10.0 -0.118167  0.038129 -0.167445 -0.144862 -0.125158 -0.085659   \n",
       "\n",
       "               max  \n",
       "r2 score -0.060604  "
      ]
     },
     "execution_count": 11,
     "metadata": {},
     "output_type": "execute_result"
    }
   ],
   "source": [
    "historico = kfold_train_validate(algoritmo, kf, X_train, y_train)\n",
    "describe(historico)"
   ]
  },
  {
   "cell_type": "code",
   "execution_count": 12,
   "metadata": {
    "scrolled": true
   },
   "outputs": [
    {
     "data": {
      "image/png": "[encoded data removed]",
      "text/plain": [
       "<Figure size 432x288 with 1 Axes>"
      ]
     },
     "metadata": {
      "needs_background": "light"
     },
     "output_type": "display_data"
    }
   ],
   "source": [
    "plot(historico)"
   ]
  },
  {
   "cell_type": "code",
   "execution_count": 13,
   "metadata": {},
   "outputs": [],
   "source": [
    "from sklearn.pipeline import make_pipeline\n",
    "from sklearn.preprocessing import StandardScaler"
   ]
  },
  {
   "cell_type": "code",
   "execution_count": 14,
   "metadata": {},
   "outputs": [],
   "source": [
    "algoritmo = make_pipeline(StandardScaler(), SVR(kernel=kernel, degree=degree, gamma=gamma, C=C, epsilon=epsilon))"
   ]
  },
  {
   "cell_type": "code",
   "execution_count": 15,
   "metadata": {
    "scrolled": false
   },
   "outputs": [
    {
     "data": {
      "text/html": [
       "<div>\n",
       "<style scoped>\n",
       "    .dataframe tbody tr th:only-of-type {\n",
       "        vertical-align: middle;\n",
       "    }\n",
       "\n",
       "    .dataframe tbody tr th {\n",
       "        vertical-align: top;\n",
       "    }\n",
       "\n",
       "    .dataframe thead th {\n",
       "        text-align: right;\n",
       "    }\n",
       "</style>\n",
       "<table border=\"1\" class=\"dataframe\">\n",
       "  <thead>\n",
       "    <tr style=\"text-align: right;\">\n",
       "      <th></th>\n",
       "      <th>count</th>\n",
       "      <th>mean</th>\n",
       "      <th>std</th>\n",
       "      <th>min</th>\n",
       "      <th>25%</th>\n",
       "      <th>50%</th>\n",
       "      <th>75%</th>\n",
       "      <th>max</th>\n",
       "    </tr>\n",
       "  </thead>\n",
       "  <tbody>\n",
       "    <tr>\n",
       "      <td>r2 score</td>\n",
       "      <td>10.0</td>\n",
       "      <td>0.005656</td>\n",
       "      <td>0.051086</td>\n",
       "      <td>-0.090033</td>\n",
       "      <td>-0.013261</td>\n",
       "      <td>-0.005282</td>\n",
       "      <td>0.045519</td>\n",
       "      <td>0.080191</td>\n",
       "    </tr>\n",
       "  </tbody>\n",
       "</table>\n",
       "</div>"
      ],
      "text/plain": [
       "          count      mean       std       min       25%       50%       75%  \\\n",
       "r2 score   10.0  0.005656  0.051086 -0.090033 -0.013261 -0.005282  0.045519   \n",
       "\n",
       "               max  \n",
       "r2 score  0.080191  "
      ]
     },
     "execution_count": 15,
     "metadata": {},
     "output_type": "execute_result"
    }
   ],
   "source": [
    "historico = kfold_train_validate(algoritmo, kf, X_train, y_train)\n",
    "describe(historico)"
   ]
  },
  {
   "cell_type": "code",
   "execution_count": 16,
   "metadata": {},
   "outputs": [
    {
     "data": {
      "image/png": "[encoded data removed]",
      "text/plain": [
       "<Figure size 432x288 with 1 Axes>"
      ]
     },
     "metadata": {
      "needs_background": "light"
     },
     "output_type": "display_data"
    }
   ],
   "source": [
    "plot(historico)"
   ]
  },
  {
   "cell_type": "code",
   "execution_count": 17,
   "metadata": {},
   "outputs": [],
   "source": [
    "C=1000.0\n",
    "epsilon=0.001\n",
    "degree=3\n",
    "\n",
    "algoritmo = make_pipeline(StandardScaler(), SVR(kernel=kernel, degree=degree, gamma=gamma, C=C, epsilon=epsilon))"
   ]
  },
  {
   "cell_type": "code",
   "execution_count": 18,
   "metadata": {},
   "outputs": [
    {
     "data": {
      "text/html": [
       "<div>\n",
       "<style scoped>\n",
       "    .dataframe tbody tr th:only-of-type {\n",
       "        vertical-align: middle;\n",
       "    }\n",
       "\n",
       "    .dataframe tbody tr th {\n",
       "        vertical-align: top;\n",
       "    }\n",
       "\n",
       "    .dataframe thead th {\n",
       "        text-align: right;\n",
       "    }\n",
       "</style>\n",
       "<table border=\"1\" class=\"dataframe\">\n",
       "  <thead>\n",
       "    <tr style=\"text-align: right;\">\n",
       "      <th></th>\n",
       "      <th>count</th>\n",
       "      <th>mean</th>\n",
       "      <th>std</th>\n",
       "      <th>min</th>\n",
       "      <th>25%</th>\n",
       "      <th>50%</th>\n",
       "      <th>75%</th>\n",
       "      <th>max</th>\n",
       "    </tr>\n",
       "  </thead>\n",
       "  <tbody>\n",
       "    <tr>\n",
       "      <td>r2 score</td>\n",
       "      <td>10.0</td>\n",
       "      <td>0.982729</td>\n",
       "      <td>0.029062</td>\n",
       "      <td>0.903356</td>\n",
       "      <td>0.981963</td>\n",
       "      <td>0.995432</td>\n",
       "      <td>0.997508</td>\n",
       "      <td>0.998243</td>\n",
       "    </tr>\n",
       "  </tbody>\n",
       "</table>\n",
       "</div>"
      ],
      "text/plain": [
       "          count      mean       std       min       25%       50%       75%  \\\n",
       "r2 score   10.0  0.982729  0.029062  0.903356  0.981963  0.995432  0.997508   \n",
       "\n",
       "               max  \n",
       "r2 score  0.998243  "
      ]
     },
     "execution_count": 18,
     "metadata": {},
     "output_type": "execute_result"
    }
   ],
   "source": [
    "historico = kfold_train_validate(algoritmo, kf, X_train, y_train)\n",
    "describe(historico)"
   ]
  },
  {
   "cell_type": "code",
   "execution_count": 19,
   "metadata": {},
   "outputs": [
    {
     "data": {
      "image/png": "[encoded data removed]",
      "text/plain": [
       "<Figure size 432x288 with 1 Axes>"
      ]
     },
     "metadata": {
      "needs_background": "light"
     },
     "output_type": "display_data"
    }
   ],
   "source": [
    "plot(historico)"
   ]
  },
  {
   "cell_type": "markdown",
   "metadata": {},
   "source": [
    "# Teste"
   ]
  },
  {
   "cell_type": "code",
   "execution_count": 20,
   "metadata": {},
   "outputs": [
    {
     "name": "stdout",
     "output_type": "stream",
     "text": [
      "Test R2 score: 0.998480\n"
     ]
    }
   ],
   "source": [
    "r2s_test = algoritmo.score(X_test, y_test['cases'])\n",
    "print(\"Test R2 score: {:3.6f}\".format(r2s_test))"
   ]
  },
  {
   "cell_type": "code",
   "execution_count": null,
   "metadata": {},
   "outputs": [],
   "source": []
  }
 ],
 "metadata": {
  "kernelspec": {
   "display_name": "Python 3",
   "language": "python",
   "name": "python3"
  },
  "language_info": {
   "codemirror_mode": {
    "name": "ipython",
    "version": 3
   },
   "file_extension": ".py",
   "mimetype": "text/x-python",
   "name": "python",
   "nbconvert_exporter": "python",
   "pygments_lexer": "ipython3",
   "version": "3.7.4"
  }
 },
 "nbformat": 4,
 "nbformat_minor": 2
}
